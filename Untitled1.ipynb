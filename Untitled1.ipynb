{
  "nbformat": 4,
  "nbformat_minor": 0,
  "metadata": {
    "colab": {
      "provenance": []
    },
    "kernelspec": {
      "name": "python3",
      "display_name": "Python 3"
    },
    "language_info": {
      "name": "python"
    }
  },
  "cells": [
    {
      "cell_type": "code",
      "execution_count": 21,
      "metadata": {
        "colab": {
          "base_uri": "https://localhost:8080/"
        },
        "id": "0ct5SK8s417K",
        "outputId": "9604af58-8fe6-4df5-a914-46ab2fc3f6d3"
      },
      "outputs": [
        {
          "output_type": "stream",
          "name": "stderr",
          "text": [
            "The attention mask and the pad token id were not set. As a consequence, you may observe unexpected behavior. Please pass your input's `attention_mask` to obtain reliable results.\n",
            "Setting `pad_token_id` to `eos_token_id`:50256 for open-end generation.\n"
          ]
        },
        {
          "output_type": "stream",
          "name": "stdout",
          "text": [
            "Texto generado:\n",
            " Me gusta mucho el futbol, pero no lo es todo.\n",
            "\n",
            "En el año 2000, el club se mudó a la ciudad de Nueva York, donde se convirtió en el primer equipo de fútbol americano en jugar en la Major League Soccer. En el 2000 se trasladó a Los Ángeles, California, y en 2002 se mudaron a San Francisco, San Diego, Los Angeles y Los San Antonio. El equipo se estableció en Los Santos, Texas, en 2003, con el nombre de \"Los Angeles Galaxy\".\n",
            "El equipo jugó en las series de la MLS, la Copa MLS y la Liga de Campeones de CONCACAF. Los equipos de los Ángeles se convirtieron en los primeros equipos en ganar la liga en su historia. La franquicia se fundó en 2004,\n"
          ]
        }
      ],
      "source": [
        "import torch\n",
        "from transformers import GPT2LMHeadModel, GPT2Tokenizer\n",
        "\n",
        "# Cargar un modelo preentrenado de GPT-2 en español\n",
        "model_name = \"datificate/gpt2-small-spanish\"  # GPT-2 preentrenado en español\n",
        "model = GPT2LMHeadModel.from_pretrained(model_name)\n",
        "tokenizer = GPT2Tokenizer.from_pretrained(model_name)\n",
        "\n",
        "# Texto de entrada en español\n",
        "input_text = \"Me gusta mucho el futbol\"\n",
        "\n",
        "# Tokenizar el texto de entrada\n",
        "input_ids = tokenizer.encode(input_text, return_tensors=\"pt\")\n",
        "\n",
        "# Generar texto adicional basado en la entrada\n",
        "output = model.generate(\n",
        "    input_ids,\n",
        "    max_length=150,  # Ajusta la longitud del texto generado según sea necesario\n",
        "    num_return_sequences=1,\n",
        "    no_repeat_ngram_size=2,\n",
        "    top_k=50,\n",
        "    top_p=0.95,\n",
        "    temperature=0.7\n",
        ")\n",
        "\n",
        "# Decodificar el texto generado en español\n",
        "generated_text = tokenizer.decode(output[0], skip_special_tokens=True)\n",
        "\n",
        "# Mostrar el texto generado en español\n",
        "print(\"Texto generado:\\n\", generated_text)\n"
      ]
    }
  ]
}